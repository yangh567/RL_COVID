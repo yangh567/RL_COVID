{
 "cells": [
  {
   "cell_type": "markdown",
   "metadata": {},
   "source": [
    "## Setup"
   ]
  },
  {
   "cell_type": "code",
   "execution_count": 1,
   "metadata": {},
   "outputs": [
    {
     "data": {
      "text/html": [
       "<style>.container { width:100% !important; }</style>"
      ],
      "text/plain": [
       "<IPython.core.display.HTML object>"
      ]
     },
     "metadata": {},
     "output_type": "display_data"
    }
   ],
   "source": [
    "# use full window width\n",
    "from IPython.core.display import display, HTML\n",
    "display(HTML(\"<style>.container { width:100% !important; }</style>\"))"
   ]
  },
  {
   "cell_type": "code",
   "execution_count": 2,
   "metadata": {},
   "outputs": [
    {
     "name": "stderr",
     "output_type": "stream",
     "text": [
      "C:\\Users\\ASUS\\AppData\\Roaming\\Python\\Python36\\site-packages\\numpy\\_distributor_init.py:32: UserWarning: loaded more than 1 DLL from .libs:\n",
      "C:\\Users\\ASUS\\AppData\\Roaming\\Python\\Python36\\site-packages\\numpy\\.libs\\libopenblas.NOIJJG62EMASZI6NYURL6JBKM4EVBGM7.gfortran-win_amd64.dll\n",
      "C:\\Users\\ASUS\\AppData\\Roaming\\Python\\Python36\\site-packages\\numpy\\.libs\\libopenblas.PYQHXLVVQ7VESDPUVUADXEVJOBGHJPAY.gfortran-win_amd64.dll\n",
      "  stacklevel=1)\n"
     ]
    }
   ],
   "source": [
    "import os\n",
    "#os.chdir('..')\n",
    "from matplotlib import pyplot as plt\n",
    "import numpy as np\n",
    "import pandas as pd\n",
    "from collections import namedtuple\n",
    "import virl"
   ]
  },
  {
   "cell_type": "markdown",
   "metadata": {},
   "source": [
    "#### make the function to show the action content"
   ]
  },
  {
   "cell_type": "code",
   "execution_count": 3,
   "metadata": {},
   "outputs": [],
   "source": [
    "def show_action(action):\n",
    "    outcome = ''\n",
    "    if action == 0:\n",
    "            outcome = (\"%-17s\" %(\"None\"))\n",
    "    if action == 1:\n",
    "            outcome = (\"%-17s\" %(\"Full Lockdown\"))\n",
    "    if action == 2:\n",
    "            outcome = (\"%-17s\" %(\"Track & Trace\"))\n",
    "    if action == 3:\n",
    "            outcome = (\"%-17s\" %(\"Social Distancing\"))\n",
    "    return outcome"
   ]
  },
  {
   "cell_type": "markdown",
   "metadata": {},
   "source": [
    "#### Second : make the function to run one episode with the trained deterministic agent"
   ]
  },
  {
   "cell_type": "code",
   "execution_count": 4,
   "metadata": {},
   "outputs": [],
   "source": [
    "def run_deterministic(env,environment,noisy, action):\n",
    "    states = []\n",
    "    rewards = []\n",
    "    actions = []\n",
    "    done = False\n",
    "    s = env.reset()\n",
    "    states.append(s)\n",
    "    while not done:\n",
    "        # make a step\n",
    "        next_state, reward, done, _ = env.step(action)\n",
    "\n",
    "        states.append(next_state)\n",
    "        rewards.append(reward)\n",
    "        actions.append(action)\n",
    "    fig, axes = plt.subplots(1, 2, figsize=(20, 8))\n",
    "    # This is the place for visualizing the policy\n",
    "    labels = ['s[0]: susceptibles', 's[1]: infectious', 's[2]: quarantined', 's[3]: recovereds']\n",
    "    states = np.array(states)\n",
    "    for i in range(4):\n",
    "        axes[0].set_title( environment + \" \" + noisy + \" \" + \"for deterministic agent\")\n",
    "        axes[0].plot(states[:,i], label=labels[i]);\n",
    "        axes[0].set_xlabel('weeks since start of epidemic')\n",
    "        axes[0].set_ylabel('State s(t)')\n",
    "        axes[0].legend()\n",
    "        axes[1].plot(rewards);\n",
    "        axes[1].set_title( 'total reward   ' + str(np.sum(rewards)) )\n",
    "        axes[1].set_xlabel('weeks since start of epidemic')\n",
    "        axes[1].set_ylabel('reward r(t)')\n",
    "    print (environment + \" \" + noisy + \" \" + \"for deterministic agent\",end = '')\n",
    "    print(' total reward', np.sum(rewards))\n",
    "    #plt.savefig('graphs/deterministic_agent/state_and_reward/state and reward for'+ \" \" + environment + \" \" + noisy + \" \" + \"for deterministic agent\" + '.png')\n",
    "    return actions"
   ]
  },
  {
   "cell_type": "code",
   "execution_count": 5,
   "metadata": {},
   "outputs": [],
   "source": [
    "def visualization_for_deterministic_agent():\n",
    "    \n",
    "    '''Train for each of the environments and problems'''\n",
    "    \n",
    "    stats_for_problems_nnoise = []\n",
    "    for i in range (10):\n",
    "        env = virl.Epidemic(problem_id=i,noisy=False)\n",
    "        for j in range (4):\n",
    "            run_deterministic(env,\"action : \"+show_action(j) + \"   problem \"+ str(i),\"without noise\", j)\n",
    "\n",
    "    for i in range (10):\n",
    "        env = virl.Epidemic(problem_id=j,noisy=True)\n",
    "        # train on the problem and evaluating by making one episode\n",
    "        for j in range (4):\n",
    "            run_deterministic(env,\"action : \"+show_action(j) + \"   problem \"+ str(i),\"with    noise\", j)\n",
    "        \n",
    "\n",
    "    env = virl.Epidemic(stochastic=True,noisy=False)\n",
    "    for j in range (4):\n",
    "            run_deterministic(env,\"action : \"+ show_action(j) + \" stochastic\",\"without noise\", j)\n",
    "    \n",
    "    env = virl.Epidemic(stochastic=True,noisy=True)\n",
    "    for j in range (4):\n",
    "            run_deterministic(env,\"action : \"+ show_action(j)+\" stochastic\",\"with    noise\", j)"
   ]
  },
  {
   "cell_type": "markdown",
   "metadata": {},
   "source": [
    "####  The overall visualization for all of the environment and problems for passing to run_eval.ipynb file"
   ]
  },
  {
   "cell_type": "code",
   "execution_count": 6,
   "metadata": {
    "scrolled": true
   },
   "outputs": [],
   "source": [
    "#visualization_for_deterministic_agent()"
   ]
  },
  {
   "cell_type": "code",
   "execution_count": null,
   "metadata": {},
   "outputs": [],
   "source": []
  }
 ],
 "metadata": {
  "kernelspec": {
   "display_name": "Python 3",
   "language": "python",
   "name": "python3"
  },
  "language_info": {
   "codemirror_mode": {
    "name": "ipython",
    "version": 3
   },
   "file_extension": ".py",
   "mimetype": "text/x-python",
   "name": "python",
   "nbconvert_exporter": "python",
   "pygments_lexer": "ipython3",
   "version": "3.8.5"
  },
  "toc": {
   "base_numbering": 1,
   "nav_menu": {},
   "number_sections": true,
   "sideBar": true,
   "skip_h1_title": false,
   "title_cell": "Table of Contents",
   "title_sidebar": "Contents",
   "toc_cell": false,
   "toc_position": {},
   "toc_section_display": true,
   "toc_window_display": false
  }
 },
 "nbformat": 4,
 "nbformat_minor": 2
}
